{
 "cells": [
  {
   "cell_type": "code",
   "execution_count": 141,
   "id": "aedd8e8e-d94b-4783-8a3a-34501f295808",
   "metadata": {
    "tags": []
   },
   "outputs": [
    {
     "data": {
      "text/plain": [
       "3   4\n",
       "4   3\n",
       "2   5\n",
       "1   3\n",
       "3   9\n",
       "3   3"
      ]
     },
     "metadata": {},
     "output_type": "display_data"
    }
   ],
   "source": [
    "fileContents <- readFile \"input_example.txt\"\n",
    "putStrLn fileContents"
   ]
  },
  {
   "cell_type": "code",
   "execution_count": 142,
   "id": "7201f80d-110b-44f9-81d9-761d7c073969",
   "metadata": {
    "tags": []
   },
   "outputs": [
    {
     "data": {
      "text/plain": [
       "[\"3   4\",\"4   3\",\"2   5\",\"1   3\",\"3   9\",\"3   3\"]"
      ]
     },
     "metadata": {},
     "output_type": "display_data"
    }
   ],
   "source": [
    "lines fileContents"
   ]
  },
  {
   "cell_type": "code",
   "execution_count": 143,
   "id": "1e69b305-c080-4412-96b7-fc78cc841aa7",
   "metadata": {
    "tags": []
   },
   "outputs": [
    {
     "data": {
      "text/plain": [
       "[[\"3\",\"4\"],[\"4\",\"3\"],[\"2\",\"5\"],[\"1\",\"3\"],[\"3\",\"9\"],[\"3\",\"3\"]]"
      ]
     },
     "metadata": {},
     "output_type": "display_data"
    }
   ],
   "source": [
    "-- For each string in the list,\n",
    "-- split string into a sub-list of pair of numbers -- e.g., `words \"3 4\" = [\"3\", \"4\"]`\n",
    "map words (lines fileContents)"
   ]
  },
  {
   "cell_type": "code",
   "execution_count": 144,
   "id": "9b69af38-136d-4400-ac8e-5beb84e8be8d",
   "metadata": {
    "tags": []
   },
   "outputs": [],
   "source": [
    "-- Convert a list of string to a tuple of ints  -- e.g., strListToTuple [\"3\", \"4\"] = (3, 4)\n",
    "strListToTuple :: [String] -> (Int, Int)\n",
    "strListToTuple [x, y] = (read x, read y)"
   ]
  },
  {
   "cell_type": "code",
   "execution_count": 145,
   "id": "4d8b99e6-53f2-4407-93b6-1bae0dc3d9b3",
   "metadata": {
    "collapsed": true,
    "jupyter": {
     "outputs_hidden": true
    },
    "tags": []
   },
   "outputs": [
    {
     "data": {
      "text/html": [
       "<style>/* Styles used for the Hoogle display in the pager */\n",
       ".hoogle-doc {\n",
       "display: block;\n",
       "padding-bottom: 1.3em;\n",
       "padding-left: 0.4em;\n",
       "}\n",
       ".hoogle-code {\n",
       "display: block;\n",
       "font-family: monospace;\n",
       "white-space: pre;\n",
       "}\n",
       ".hoogle-text {\n",
       "display: block;\n",
       "}\n",
       ".hoogle-name {\n",
       "color: green;\n",
       "font-weight: bold;\n",
       "}\n",
       ".hoogle-head {\n",
       "font-weight: bold;\n",
       "}\n",
       ".hoogle-sub {\n",
       "display: block;\n",
       "margin-left: 0.4em;\n",
       "}\n",
       ".hoogle-package {\n",
       "font-weight: bold;\n",
       "font-style: italic;\n",
       "}\n",
       ".hoogle-module {\n",
       "font-weight: bold;\n",
       "}\n",
       ".hoogle-class {\n",
       "font-weight: bold;\n",
       "}\n",
       "\n",
       ".get-type {\n",
       "color: green;\n",
       "font-weight: bold;\n",
       "font-family: monospace;\n",
       "display: block;\n",
       "white-space: pre-wrap;\n",
       "}\n",
       ".show-type {\n",
       "color: green;\n",
       "font-weight: bold;\n",
       "font-family: monospace;\n",
       "margin-left: 1em;\n",
       "}\n",
       ".mono {\n",
       "font-family: monospace;\n",
       "display: block;\n",
       "}\n",
       ".err-msg {\n",
       "color: red;\n",
       "font-style: italic;\n",
       "font-family: monospace;\n",
       "white-space: pre;\n",
       "display: block;\n",
       "}\n",
       "#unshowable {\n",
       "color: red;\n",
       "font-weight: bold;\n",
       "}\n",
       ".err-msg.in.collapse {\n",
       "padding-top: 0.7em;\n",
       "}\n",
       "\n",
       ".highlight-code {\n",
       "white-space: pre;\n",
       "font-family: monospace;\n",
       "}\n",
       "\n",
       ".suggestion-warning { \n",
       "font-weight: bold;\n",
       "color: rgb(200, 130, 0);\n",
       "}\n",
       ".suggestion-error { \n",
       "font-weight: bold;\n",
       "color: red;\n",
       "}\n",
       ".suggestion-name {\n",
       "font-weight: bold;\n",
       "}\n",
       "\n",
       "</style><div class=\"suggestion-name\" style=\"clear:both;\">Use map once</div><div class=\"suggestion-row\" style=\"float: left;\"><div class=\"suggestion-warning\">Found:</div><div class=\"highlight-code\" id=\"haskell\">map strListToTuple (map words (lines fileContents))</div></div><div class=\"suggestion-row\" style=\"float: left;\"><div class=\"suggestion-warning\">Why Not:</div><div class=\"highlight-code\" id=\"haskell\">map (strListToTuple . words) (lines fileContents)</div></div>"
      ],
      "text/plain": [
       "Line 2: Use map once\n",
       "Found:\n",
       "map strListToTuple (map words (lines fileContents))\n",
       "Why not:\n",
       "map (strListToTuple . words) (lines fileContents)"
      ]
     },
     "metadata": {},
     "output_type": "display_data"
    },
    {
     "data": {
      "text/plain": [
       "[(3,4),(4,3),(2,5),(1,3),(3,9),(3,3)]"
      ]
     },
     "metadata": {},
     "output_type": "display_data"
    }
   ],
   "source": [
    "-- Do conversion for whole file input\n",
    "map strListToTuple (map words (lines fileContents))"
   ]
  },
  {
   "cell_type": "code",
   "execution_count": 146,
   "id": "ab38c5f5-4d20-438b-b0df-11faec7ac4bb",
   "metadata": {
    "tags": []
   },
   "outputs": [
    {
     "data": {
      "text/plain": [
       "[(3,4),(4,3),(2,5),(1,3),(3,9),(3,3)]"
      ]
     },
     "metadata": {},
     "output_type": "display_data"
    }
   ],
   "source": [
    "-- Follow advice above:\n",
    "map (strListToTuple . words) (lines fileContents)"
   ]
  },
  {
   "cell_type": "code",
   "execution_count": 147,
   "id": "1207a613-27ac-4303-8a3b-8396c5c0edda",
   "metadata": {},
   "outputs": [],
   "source": [
    "-- Above is the final form we want for our input"
   ]
  },
  {
   "cell_type": "code",
   "execution_count": null,
   "id": "2b6b6cfe-236d-4d62-9186-a5355ae74e3a",
   "metadata": {
    "tags": []
   },
   "outputs": [
    {
     "data": {
      "text/plain": [
       "([3,4,2,1,3,3],[4,3,5,3,9,3])"
      ]
     },
     "metadata": {},
     "output_type": "display_data"
    }
   ],
   "source": [
    "-- Now solve problem (part 1)\n",
    "\n",
    "-- 1. Unzip input list to two lists (left and right columns)\n",
    "let input = map (strListToTuple . words) (lines fileContents)\n",
    "unzip input"
   ]
  },
  {
   "cell_type": "code",
   "execution_count": null,
   "id": "ac3d76c9-e557-4a8a-90cb-de94191be949",
   "metadata": {
    "tags": []
   },
   "outputs": [
    {
     "data": {
      "text/html": [
       "<style>/* Styles used for the Hoogle display in the pager */\n",
       ".hoogle-doc {\n",
       "display: block;\n",
       "padding-bottom: 1.3em;\n",
       "padding-left: 0.4em;\n",
       "}\n",
       ".hoogle-code {\n",
       "display: block;\n",
       "font-family: monospace;\n",
       "white-space: pre;\n",
       "}\n",
       ".hoogle-text {\n",
       "display: block;\n",
       "}\n",
       ".hoogle-name {\n",
       "color: green;\n",
       "font-weight: bold;\n",
       "}\n",
       ".hoogle-head {\n",
       "font-weight: bold;\n",
       "}\n",
       ".hoogle-sub {\n",
       "display: block;\n",
       "margin-left: 0.4em;\n",
       "}\n",
       ".hoogle-package {\n",
       "font-weight: bold;\n",
       "font-style: italic;\n",
       "}\n",
       ".hoogle-module {\n",
       "font-weight: bold;\n",
       "}\n",
       ".hoogle-class {\n",
       "font-weight: bold;\n",
       "}\n",
       "\n",
       ".get-type {\n",
       "color: green;\n",
       "font-weight: bold;\n",
       "font-family: monospace;\n",
       "display: block;\n",
       "white-space: pre-wrap;\n",
       "}\n",
       ".show-type {\n",
       "color: green;\n",
       "font-weight: bold;\n",
       "font-family: monospace;\n",
       "margin-left: 1em;\n",
       "}\n",
       ".mono {\n",
       "font-family: monospace;\n",
       "display: block;\n",
       "}\n",
       ".err-msg {\n",
       "color: red;\n",
       "font-style: italic;\n",
       "font-family: monospace;\n",
       "white-space: pre;\n",
       "display: block;\n",
       "}\n",
       "#unshowable {\n",
       "color: red;\n",
       "font-weight: bold;\n",
       "}\n",
       ".err-msg.in.collapse {\n",
       "padding-top: 0.7em;\n",
       "}\n",
       "\n",
       ".highlight-code {\n",
       "white-space: pre;\n",
       "font-family: monospace;\n",
       "}\n",
       "\n",
       ".suggestion-warning { \n",
       "font-weight: bold;\n",
       "color: rgb(200, 130, 0);\n",
       "}\n",
       ".suggestion-error { \n",
       "font-weight: bold;\n",
       "color: red;\n",
       "}\n",
       ".suggestion-name {\n",
       "font-weight: bold;\n",
       "}\n",
       "\n",
       "</style><div class=\"suggestion-name\" style=\"clear:both;\">Redundant map</div><div class=\"suggestion-row\" style=\"float: left;\"><div class=\"suggestion-warning\">Found:</div><div class=\"highlight-code\" id=\"haskell\">map id</div></div><div class=\"suggestion-row\" style=\"float: left;\"><div class=\"suggestion-warning\">Why Not:</div><div class=\"highlight-code\" id=\"haskell\">id</div></div><div class=\"suggestion-name\" style=\"clear:both;\">Redundant map</div><div class=\"suggestion-row\" style=\"float: left;\"><div class=\"suggestion-warning\">Found:</div><div class=\"highlight-code\" id=\"haskell\">map id</div></div><div class=\"suggestion-row\" style=\"float: left;\"><div class=\"suggestion-warning\">Why Not:</div><div class=\"highlight-code\" id=\"haskell\">id</div></div>"
      ],
      "text/plain": [
       "Line 3: Redundant map\n",
       "Found:\n",
       "map id\n",
       "Why not:\n",
       "idLine 3: Redundant map\n",
       "Found:\n",
       "map id\n",
       "Why not:\n",
       "id"
      ]
     },
     "metadata": {},
     "output_type": "display_data"
    },
    {
     "data": {
      "text/plain": [
       "[[3,4,2,1,3,3],[4,3,5,3,9,3]]"
      ]
     },
     "metadata": {},
     "output_type": "display_data"
    }
   ],
   "source": [
    "-- 2. Convert tuple (containing 2 lists) above to a list of lists\n",
    "tupleToList :: ([Int], [Int]) -> [[Int]]\n",
    "tupleToList (x, y) = [map id x, map id y]\n",
    "tupleToList (unzip input)"
   ]
  },
  {
   "cell_type": "code",
   "execution_count": null,
   "id": "410dd718-1a04-4fbf-8620-c57a75ef72e1",
   "metadata": {
    "tags": []
   },
   "outputs": [
    {
     "data": {
      "text/plain": [
       "[[1,2,3,3,3,4],[3,3,3,4,5,9]]"
      ]
     },
     "metadata": {},
     "output_type": "display_data"
    }
   ],
   "source": [
    "-- 2. Sort each list\n",
    "import Data.List (sort)\n",
    "map sort (tupleToList (unzip input))"
   ]
  },
  {
   "cell_type": "code",
   "execution_count": null,
   "id": "ab272727-ad53-4746-a00d-29fa1bbd1feb",
   "metadata": {
    "tags": []
   },
   "outputs": [
    {
     "data": {
      "text/plain": [
       "[-2,-1,0,-1,-2,-5]"
      ]
     },
     "metadata": {},
     "output_type": "display_data"
    }
   ],
   "source": [
    "-- 3. Subtract each element in 2nd list from corresponding element in 1st list\n",
    "subtractTwoLists :: [[Int]] -> [Int]\n",
    "subtractTwoLists [x, y] = zipWith (-) x y\n",
    "\n",
    "subtractTwoLists (map sort (tupleToList (unzip input)))"
   ]
  },
  {
   "cell_type": "code",
   "execution_count": null,
   "id": "65a8ca05-69f8-4151-96df-14dd58119a19",
   "metadata": {
    "tags": []
   },
   "outputs": [
    {
     "data": {
      "text/plain": [
       "11"
      ]
     },
     "metadata": {},
     "output_type": "display_data"
    }
   ],
   "source": [
    "-- 4. Take absolute differences, then sum\n",
    "sum (map abs (subtractTwoLists (map sort (tupleToList (unzip input)))))"
   ]
  },
  {
   "cell_type": "code",
   "execution_count": null,
   "id": "605401b6-bf94-4352-a00d-4847b51c74ad",
   "metadata": {
    "tags": []
   },
   "outputs": [
    {
     "data": {
      "text/plain": [
       "11"
      ]
     },
     "metadata": {},
     "output_type": "display_data"
    }
   ],
   "source": [
    "-- This is the final answer.\n",
    "\n",
    "-- To summarize:\n",
    "fileContents <- readFile \"input_example.txt\"\n",
    "let input = map (strListToTuple . words) (lines fileContents)\n",
    "sum (map abs (subtractTwoLists (map sort (tupleToList (unzip input)))))"
   ]
  },
  {
   "cell_type": "code",
   "execution_count": null,
   "id": "5d40afed-8c37-429e-abaa-526cf6572631",
   "metadata": {},
   "outputs": [],
   "source": []
  }
 ],
 "metadata": {
  "kernelspec": {
   "display_name": "Haskell",
   "language": "haskell",
   "name": "haskell"
  },
  "language_info": {
   "codemirror_mode": "ihaskell",
   "file_extension": ".hs",
   "mimetype": "text/x-haskell",
   "name": "haskell",
   "pygments_lexer": "Haskell",
   "version": "9.4.5"
  }
 },
 "nbformat": 4,
 "nbformat_minor": 5
}
